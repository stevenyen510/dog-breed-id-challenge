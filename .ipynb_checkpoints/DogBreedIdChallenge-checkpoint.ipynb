{
 "cells": [
  {
   "cell_type": "code",
   "execution_count": 1,
   "metadata": {},
   "outputs": [
    {
     "name": "stderr",
     "output_type": "stream",
     "text": [
      "c:\\users\\events\\appdata\\local\\programs\\python\\python36\\lib\\site-packages\\h5py\\__init__.py:36: FutureWarning: Conversion of the second argument of issubdtype from `float` to `np.floating` is deprecated. In future, it will be treated as `np.float64 == np.dtype(float).type`.\n",
      "  from ._conv import register_converters as _register_converters\n",
      "Using TensorFlow backend.\n"
     ]
    }
   ],
   "source": [
    "\"\"\"\n",
    "Dog Breed Identification Project (Kaggle Challenge)\n",
    "Trains a model to identify dog breed based on a picture of the dog\n",
    "\"\"\"\n",
    "\n",
    "import matplotlib.image as img\n",
    "import numpy as np\n",
    "from keras.utils import np_utils\n",
    "import matplotlib.pyplot as plt"
   ]
  },
  {
   "cell_type": "code",
   "execution_count": 2,
   "metadata": {},
   "outputs": [],
   "source": [
    "\"\"\"\n",
    "Following code parses the training images and label.csv from the Kaggle Dog Breed Identification challenge\n",
    "The end result is that variable all_images contains all images in the training data set represnted as numpy arrays, and\n",
    "variable all_labels contains the label for the images in one-hot format. There are 120 breeds ordered alphabetically.\n",
    "\"\"\"\n",
    "\n",
    "####CONSTANTS####\n",
    "\n",
    "#file path containing all the images in training set\n",
    "fPath = \"C:\\\\events_LocalMass\\\\cs256finalProjectData\\\\dogBreedProject\\\\dogBreedProjTrainingData_resized200x150-20180423T052104Z-001\\\\dogBreedProjTrainingData_resized200x150\\\\\"\n",
    "#file path containing the csv file with labels\n",
    "labelsFilePath = \"C:\\\\events_LocalMass\\\\cs256finalProjectData\\\\dogBreedProject\\\\dogBreedProjTrainingData_resized200x150-20180423T052104Z-001\\\\\" \n",
    "labelsFileName = \"labels.csv\" #file name of the csv containing the label (breed) for each picture\n",
    "\n",
    "dataToLoad = 10222 #number of data points to load in\n",
    "trainSize = 1000 #number of data points to use for training (will take the specified number of lines starting from top)\n",
    "testSize = 200 #number of data points to use for testing (will take specifeid number of lines starting at index=trainSize)"
   ]
  },
  {
   "cell_type": "code",
   "execution_count": 3,
   "metadata": {},
   "outputs": [],
   "source": [
    "labelsfiles = open(labelsFilePath+labelsFileName)\n",
    "fnameToLabelMap = {} #construction dictionary where entries are of the form {\"000bec180eb18c7604dcecc8fe0dba07\": 'boston_bull'}\n",
    "\n",
    "junk = labelsfiles.readline() #discard first line which is just column title\n",
    "newLine = labelsfiles.readline()\n",
    "\n",
    "while newLine:\n",
    "    newLine = newLine.replace(\"\\n\",\"\")\n",
    "    tempArr = newLine.split(\",\")\n",
    "    fnameToLabelMap[tempArr[0]] = tempArr[1]\n",
    "    newLine = labelsfiles.readline()\n",
    "    \n",
    "labelsfiles.close() "
   ]
  },
  {
   "cell_type": "code",
   "execution_count": 4,
   "metadata": {},
   "outputs": [],
   "source": [
    "dictValList = fnameToLabelMap.values() #list of 10222 including values for all entries in dictionary\n",
    "setOfDogBreeds = sorted(list(set(dictValList))) #set of all dog breeds, as a list of alphabetically sorted strings\n",
    "dog_indices = dict((db,i) for i,db in enumerate(setOfDogBreeds)) #map from dog to indices\n",
    "indices_dog = dict((i,db) for i,db in enumerate(setOfDogBreeds)) #map from indices to dog"
   ]
  },
  {
   "cell_type": "code",
   "execution_count": 5,
   "metadata": {},
   "outputs": [],
   "source": [
    "ct = 0 #when ct == dataToLad then break\n",
    "all_images = [] #var to store all images as arrays\n",
    "all_labels = [] #var to store all labels\n",
    "\n",
    "for fname_i in fnameToLabelMap:\n",
    "    if(ct==dataToLoad):\n",
    "        break\n",
    "\n",
    "    currPicArr = img.imread(fPath+fname_i+\".jpg\") #picture as numpy array\n",
    "    all_images.append(currPicArr)\n",
    "    all_labels.append(dog_indices[fnameToLabelMap[fname_i]])\n",
    "    \n",
    "    ct+=1"
   ]
  },
  {
   "cell_type": "code",
   "execution_count": 6,
   "metadata": {},
   "outputs": [],
   "source": [
    "all_images = np.array(all_images) #convert all_images from list to numpy array\n",
    "all_labels = np.array(all_labels) #convert all_labels from list to numpy array"
   ]
  },
  {
   "cell_type": "code",
   "execution_count": 7,
   "metadata": {},
   "outputs": [],
   "source": [
    "all_labels = np_utils.to_categorical(all_labels,120) #convert all_lables into 1-hot representation"
   ]
  },
  {
   "cell_type": "code",
   "execution_count": 8,
   "metadata": {},
   "outputs": [
    {
     "data": {
      "text/plain": [
       "(10222, 150, 200, 3)"
      ]
     },
     "execution_count": 8,
     "metadata": {},
     "output_type": "execute_result"
    }
   ],
   "source": [
    "#data parsed into all_images and all_labels and converted to right format for model.\n",
    "all_images.shape"
   ]
  },
  {
   "cell_type": "code",
   "execution_count": 9,
   "metadata": {},
   "outputs": [
    {
     "data": {
      "text/plain": [
       "(10222, 120)"
      ]
     },
     "execution_count": 9,
     "metadata": {},
     "output_type": "execute_result"
    }
   ],
   "source": [
    "all_labels.shape"
   ]
  },
  {
   "cell_type": "code",
   "execution_count": 10,
   "metadata": {},
   "outputs": [],
   "source": [
    "#parse data into training-set and testing-set\n",
    "x_trainingInput = all_images[:trainSize] \n",
    "y_trainingLabel = all_labels[:trainSize]\n",
    "x_testingInput = all_images[trainSize:(trainSize+testSize)] \n",
    "y_testingLabel = all_labels[trainSize:(trainSize+testSize)]"
   ]
  },
  {
   "cell_type": "code",
   "execution_count": 11,
   "metadata": {},
   "outputs": [
    {
     "data": {
      "text/plain": [
       "(1000, 150, 200, 3)"
      ]
     },
     "execution_count": 11,
     "metadata": {},
     "output_type": "execute_result"
    }
   ],
   "source": [
    "x_trainingInput.shape"
   ]
  },
  {
   "cell_type": "code",
   "execution_count": 12,
   "metadata": {},
   "outputs": [
    {
     "data": {
      "text/plain": [
       "(1000, 120)"
      ]
     },
     "execution_count": 12,
     "metadata": {},
     "output_type": "execute_result"
    }
   ],
   "source": [
    "y_trainingLabel.shape"
   ]
  },
  {
   "cell_type": "code",
   "execution_count": 13,
   "metadata": {},
   "outputs": [
    {
     "data": {
      "text/plain": [
       "(200, 150, 200, 3)"
      ]
     },
     "execution_count": 13,
     "metadata": {},
     "output_type": "execute_result"
    }
   ],
   "source": [
    "x_testingInput.shape"
   ]
  },
  {
   "cell_type": "code",
   "execution_count": 14,
   "metadata": {},
   "outputs": [
    {
     "data": {
      "text/plain": [
       "(200, 120)"
      ]
     },
     "execution_count": 14,
     "metadata": {},
     "output_type": "execute_result"
    }
   ],
   "source": [
    "y_testingLabel.shape"
   ]
  },
  {
   "cell_type": "code",
   "execution_count": null,
   "metadata": {},
   "outputs": [],
   "source": []
  }
 ],
 "metadata": {
  "kernelspec": {
   "display_name": "Python 3",
   "language": "python",
   "name": "python3"
  },
  "language_info": {
   "codemirror_mode": {
    "name": "ipython",
    "version": 3
   },
   "file_extension": ".py",
   "mimetype": "text/x-python",
   "name": "python",
   "nbconvert_exporter": "python",
   "pygments_lexer": "ipython3",
   "version": "3.6.3"
  }
 },
 "nbformat": 4,
 "nbformat_minor": 2
}
